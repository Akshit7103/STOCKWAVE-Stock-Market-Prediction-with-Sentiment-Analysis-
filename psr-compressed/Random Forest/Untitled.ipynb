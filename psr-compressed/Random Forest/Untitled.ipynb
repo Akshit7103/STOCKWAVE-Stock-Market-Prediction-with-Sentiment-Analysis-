{
 "cells": [
  {
   "cell_type": "code",
   "execution_count": 2,
   "id": "2ed02126",
   "metadata": {},
   "outputs": [
    {
     "name": "stdout",
     "output_type": "stream",
     "text": [
      "Defaulting to user installation because normal site-packages is not writeable\n",
      "Collecting TA-Lib\n",
      "  Downloading TA-Lib-0.4.28.tar.gz (357 kB)\n",
      "     ---------------------------------------- 0.0/357.1 kB ? eta -:--:--\n",
      "     ---------------------------------------- 0.0/357.1 kB ? eta -:--:--\n",
      "     ---------------------------------------- 0.0/357.1 kB ? eta -:--:--\n",
      "     - -------------------------------------- 10.2/357.1 kB ? eta -:--:--\n",
      "     - -------------------------------------- 10.2/357.1 kB ? eta -:--:--\n",
      "     - -------------------------------------- 10.2/357.1 kB ? eta -:--:--\n",
      "     ---- -------------------------------- 41.0/357.1 kB 219.4 kB/s eta 0:00:02\n",
      "     ---- -------------------------------- 41.0/357.1 kB 219.4 kB/s eta 0:00:02\n",
      "     ---- -------------------------------- 41.0/357.1 kB 219.4 kB/s eta 0:00:02\n",
      "     ------ ------------------------------ 61.4/357.1 kB 182.2 kB/s eta 0:00:02\n",
      "     ------ ------------------------------ 61.4/357.1 kB 182.2 kB/s eta 0:00:02\n",
      "     ------ ------------------------------ 61.4/357.1 kB 182.2 kB/s eta 0:00:02\n",
      "     -------- ---------------------------- 81.9/357.1 kB 169.9 kB/s eta 0:00:02\n",
      "     -------- ---------------------------- 81.9/357.1 kB 169.9 kB/s eta 0:00:02\n",
      "     -------- ---------------------------- 81.9/357.1 kB 169.9 kB/s eta 0:00:02\n",
      "     --------- --------------------------- 92.2/357.1 kB 145.8 kB/s eta 0:00:02\n",
      "     --------- --------------------------- 92.2/357.1 kB 145.8 kB/s eta 0:00:02\n",
      "     ----------- ------------------------ 112.6/357.1 kB 152.4 kB/s eta 0:00:02\n",
      "     ------------ ----------------------- 122.9/357.1 kB 160.2 kB/s eta 0:00:02\n",
      "     ------------ ----------------------- 122.9/357.1 kB 160.2 kB/s eta 0:00:02\n",
      "     ------------ ----------------------- 122.9/357.1 kB 160.2 kB/s eta 0:00:02\n",
      "     ------------ ----------------------- 122.9/357.1 kB 160.2 kB/s eta 0:00:02\n",
      "     -------------- --------------------- 143.4/357.1 kB 152.1 kB/s eta 0:00:02\n",
      "     ---------------- ------------------- 163.8/357.1 kB 161.2 kB/s eta 0:00:02\n",
      "     ---------------- ------------------- 163.8/357.1 kB 161.2 kB/s eta 0:00:02\n",
      "     ---------------- ------------------- 163.8/357.1 kB 161.2 kB/s eta 0:00:02\n",
      "     ----------------- ------------------ 174.1/357.1 kB 152.0 kB/s eta 0:00:02\n",
      "     ----------------- ------------------ 174.1/357.1 kB 152.0 kB/s eta 0:00:02\n",
      "     ------------------- ---------------- 194.6/357.1 kB 153.2 kB/s eta 0:00:02\n",
      "     ------------------- ---------------- 194.6/357.1 kB 153.2 kB/s eta 0:00:02\n",
      "     -------------------- --------------- 204.8/357.1 kB 150.0 kB/s eta 0:00:02\n",
      "     ---------------------- ------------- 225.3/357.1 kB 161.9 kB/s eta 0:00:01\n",
      "     ---------------------- ------------- 225.3/357.1 kB 161.9 kB/s eta 0:00:01\n",
      "     ------------------------ ----------- 245.8/357.1 kB 160.3 kB/s eta 0:00:01\n",
      "     ------------------------ ----------- 245.8/357.1 kB 160.3 kB/s eta 0:00:01\n",
      "     ------------------------ ----------- 245.8/357.1 kB 160.3 kB/s eta 0:00:01\n",
      "     ------------------------- ---------- 256.0/357.1 kB 154.2 kB/s eta 0:00:01\n",
      "     ------------------------- ---------- 256.0/357.1 kB 154.2 kB/s eta 0:00:01\n",
      "     --------------------------- -------- 276.5/357.1 kB 156.3 kB/s eta 0:00:01\n",
      "     --------------------------- -------- 276.5/357.1 kB 156.3 kB/s eta 0:00:01\n",
      "     ---------------------------- ------- 286.7/357.1 kB 155.2 kB/s eta 0:00:01\n",
      "     ---------------------------- ------- 286.7/357.1 kB 155.2 kB/s eta 0:00:01\n",
      "     ------------------------------ ----- 307.2/357.1 kB 158.4 kB/s eta 0:00:01\n",
      "     ------------------------------ ----- 307.2/357.1 kB 158.4 kB/s eta 0:00:01\n",
      "     ------------------------------ ----- 307.2/357.1 kB 158.4 kB/s eta 0:00:01\n",
      "     --------------------------------- -- 327.7/357.1 kB 158.7 kB/s eta 0:00:01\n",
      "     ---------------------------------- - 337.9/357.1 kB 158.9 kB/s eta 0:00:01\n",
      "     ---------------------------------- - 337.9/357.1 kB 158.9 kB/s eta 0:00:01\n",
      "     -----------------------------------  348.2/357.1 kB 157.9 kB/s eta 0:00:01\n",
      "     ------------------------------------ 357.1/357.1 kB 157.4 kB/s eta 0:00:00\n",
      "  Installing build dependencies: started\n",
      "  Installing build dependencies: finished with status 'done'\n",
      "  Getting requirements to build wheel: started\n",
      "  Getting requirements to build wheel: finished with status 'done'\n",
      "  Installing backend dependencies: started\n",
      "  Installing backend dependencies: still running...\n",
      "  Installing backend dependencies: still running...\n",
      "  Installing backend dependencies: still running...\n",
      "  Installing backend dependencies: finished with status 'done'\n",
      "  Preparing metadata (pyproject.toml): started\n",
      "  Preparing metadata (pyproject.toml): finished with status 'done'\n",
      "Requirement already satisfied: numpy in c:\\programdata\\anaconda3\\lib\\site-packages (from TA-Lib) (1.24.3)\n",
      "Building wheels for collected packages: TA-Lib\n",
      "  Building wheel for TA-Lib (pyproject.toml): started\n",
      "  Building wheel for TA-Lib (pyproject.toml): finished with status 'error'\n",
      "Failed to build TA-Lib\n"
     ]
    },
    {
     "name": "stderr",
     "output_type": "stream",
     "text": [
      "  error: subprocess-exited-with-error\n",
      "  \n",
      "  Building wheel for TA-Lib (pyproject.toml) did not run successfully.\n",
      "  exit code: 1\n",
      "  \n",
      "  [14 lines of output]\n",
      "  <string>:77: UserWarning: Cannot find ta-lib library, installation may fail.\n",
      "  running bdist_wheel\n",
      "  running build\n",
      "  running build_py\n",
      "  creating build\n",
      "  creating build\\lib.win-amd64-cpython-311\n",
      "  creating build\\lib.win-amd64-cpython-311\\talib\n",
      "  copying talib\\abstract.py -> build\\lib.win-amd64-cpython-311\\talib\n",
      "  copying talib\\deprecated.py -> build\\lib.win-amd64-cpython-311\\talib\n",
      "  copying talib\\stream.py -> build\\lib.win-amd64-cpython-311\\talib\n",
      "  copying talib\\__init__.py -> build\\lib.win-amd64-cpython-311\\talib\n",
      "  running build_ext\n",
      "  building 'talib._ta_lib' extension\n",
      "  error: Microsoft Visual C++ 14.0 or greater is required. Get it with \"Microsoft C++ Build Tools\": https://visualstudio.microsoft.com/visual-cpp-build-tools/\n",
      "  [end of output]\n",
      "  \n",
      "  note: This error originates from a subprocess, and is likely not a problem with pip.\n",
      "  ERROR: Failed building wheel for TA-Lib\n",
      "ERROR: Could not build wheels for TA-Lib, which is required to install pyproject.toml-based projects\n"
     ]
    },
    {
     "name": "stdout",
     "output_type": "stream",
     "text": [
      "Defaulting to user installation because normal site-packages is not writeable\n",
      "Collecting TA-Lib\n",
      "  Using cached TA-Lib-0.4.28.tar.gz (357 kB)\n",
      "  Installing build dependencies: started\n",
      "  Installing build dependencies: finished with status 'done'\n",
      "  Getting requirements to build wheel: started\n",
      "  Getting requirements to build wheel: finished with status 'done'\n",
      "  Installing backend dependencies: started\n",
      "  Installing backend dependencies: finished with status 'done'\n",
      "  Preparing metadata (pyproject.toml): started\n",
      "  Preparing metadata (pyproject.toml): finished with status 'done'\n",
      "Requirement already satisfied: numpy in c:\\programdata\\anaconda3\\lib\\site-packages (from TA-Lib) (1.24.3)\n",
      "Building wheels for collected packages: TA-Lib\n",
      "  Building wheel for TA-Lib (pyproject.toml): started\n",
      "  Building wheel for TA-Lib (pyproject.toml): finished with status 'error'\n",
      "Failed to build TA-Lib\n"
     ]
    },
    {
     "name": "stderr",
     "output_type": "stream",
     "text": [
      "  error: subprocess-exited-with-error\n",
      "  \n",
      "  Building wheel for TA-Lib (pyproject.toml) did not run successfully.\n",
      "  exit code: 1\n",
      "  \n",
      "  [14 lines of output]\n",
      "  <string>:77: UserWarning: Cannot find ta-lib library, installation may fail.\n",
      "  running bdist_wheel\n",
      "  running build\n",
      "  running build_py\n",
      "  creating build\n",
      "  creating build\\lib.win-amd64-cpython-311\n",
      "  creating build\\lib.win-amd64-cpython-311\\talib\n",
      "  copying talib\\abstract.py -> build\\lib.win-amd64-cpython-311\\talib\n",
      "  copying talib\\deprecated.py -> build\\lib.win-amd64-cpython-311\\talib\n",
      "  copying talib\\stream.py -> build\\lib.win-amd64-cpython-311\\talib\n",
      "  copying talib\\__init__.py -> build\\lib.win-amd64-cpython-311\\talib\n",
      "  running build_ext\n",
      "  building 'talib._ta_lib' extension\n",
      "  error: Microsoft Visual C++ 14.0 or greater is required. Get it with \"Microsoft C++ Build Tools\": https://visualstudio.microsoft.com/visual-cpp-build-tools/\n",
      "  [end of output]\n",
      "  \n",
      "  note: This error originates from a subprocess, and is likely not a problem with pip.\n",
      "  ERROR: Failed building wheel for TA-Lib\n",
      "ERROR: Could not build wheels for TA-Lib, which is required to install pyproject.toml-based projects\n"
     ]
    }
   ],
   "source": [
    "!pip install TA-Lib"
   ]
  },
  {
   "cell_type": "code",
   "execution_count": 1,
   "id": "7df8c0d9",
   "metadata": {},
   "outputs": [
    {
     "ename": "ModuleNotFoundError",
     "evalue": "No module named 'talib'",
     "output_type": "error",
     "traceback": [
      "\u001b[1;31m---------------------------------------------------------------------------\u001b[0m",
      "\u001b[1;31mModuleNotFoundError\u001b[0m                       Traceback (most recent call last)",
      "Cell \u001b[1;32mIn[1], line 1\u001b[0m\n\u001b[1;32m----> 1\u001b[0m \u001b[38;5;28;01mimport\u001b[39;00m \u001b[38;5;21;01mtalib\u001b[39;00m \u001b[38;5;28;01mas\u001b[39;00m \u001b[38;5;21;01mta\u001b[39;00m\n",
      "\u001b[1;31mModuleNotFoundError\u001b[0m: No module named 'talib'"
     ]
    }
   ],
   "source": [
    "import talib as ta"
   ]
  },
  {
   "cell_type": "code",
   "execution_count": 4,
   "id": "0a303de0",
   "metadata": {},
   "outputs": [
    {
     "ename": "ModuleNotFoundError",
     "evalue": "No module named 'talib'",
     "output_type": "error",
     "traceback": [
      "\u001b[1;31m---------------------------------------------------------------------------\u001b[0m",
      "\u001b[1;31mModuleNotFoundError\u001b[0m                       Traceback (most recent call last)",
      "Cell \u001b[1;32mIn[4], line 1\u001b[0m\n\u001b[1;32m----> 1\u001b[0m \u001b[38;5;28;01mimport\u001b[39;00m \u001b[38;5;21;01mtalib\u001b[39;00m \u001b[38;5;28;01mas\u001b[39;00m \u001b[38;5;21;01mta\u001b[39;00m\n",
      "\u001b[1;31mModuleNotFoundError\u001b[0m: No module named 'talib'"
     ]
    }
   ],
   "source": [
    "import talib as ta "
   ]
  },
  {
   "cell_type": "code",
   "execution_count": null,
   "id": "7f2d19be",
   "metadata": {},
   "outputs": [],
   "source": []
  }
 ],
 "metadata": {
  "kernelspec": {
   "display_name": "Python 3 (ipykernel)",
   "language": "python",
   "name": "python3"
  },
  "language_info": {
   "codemirror_mode": {
    "name": "ipython",
    "version": 3
   },
   "file_extension": ".py",
   "mimetype": "text/x-python",
   "name": "python",
   "nbconvert_exporter": "python",
   "pygments_lexer": "ipython3",
   "version": "3.11.4"
  }
 },
 "nbformat": 4,
 "nbformat_minor": 5
}
